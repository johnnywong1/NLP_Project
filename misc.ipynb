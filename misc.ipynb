{
 "metadata": {
  "language_info": {
   "codemirror_mode": {
    "name": "ipython",
    "version": 3
   },
   "file_extension": ".py",
   "mimetype": "text/x-python",
   "name": "python",
   "nbconvert_exporter": "python",
   "pygments_lexer": "ipython3",
   "version": "3.6.13"
  },
  "orig_nbformat": 2,
  "kernelspec": {
   "name": "python388jvsc74a57bd0cb7147ee7c39139ff3e95f767688cc716c87c76ddac3d78e49686ef98354ac7c",
   "display_name": "Python 3.6.13 64-bit"
  },
  "metadata": {
   "interpreter": {
    "hash": "cb7147ee7c39139ff3e95f767688cc716c87c76ddac3d78e49686ef98354ac7c"
   }
  }
 },
 "nbformat": 4,
 "nbformat_minor": 2,
 "cells": [
  {
   "cell_type": "code",
   "execution_count": 1,
   "metadata": {},
   "outputs": [
    {
     "output_type": "stream",
     "name": "stdout",
     "text": [
      "removing irrelevant data\n",
      "(20130195, 22)\n",
      "extracted toxic users\n",
      "number of toxic users  157673\n",
      "['GoTradeBot', 'TrumpTrain-bot', 'SilentOneBravo', 'CrookedPrisoner', 'autotldr', 'Trump-Tzu', 'ValorousVagabond', 'samacharbot2', 'xspacess', 'Mentioned_Videos']\n",
      "extracted comments of toxic users\n",
      "extracted comments of non-toxic users\n",
      "(10912697, 22)\n",
      "(9217498, 22)\n",
      "/localtmp/rm5tx/conda/envs/slocal/lib/python3.6/site-packages/ipykernel_launcher.py:61: SettingWithCopyWarning: \n",
      "A value is trying to be set on a copy of a slice from a DataFrame.\n",
      "Try using .loc[row_indexer,col_indexer] = value instead\n",
      "\n",
      "See the caveats in the documentation: https://pandas.pydata.org/pandas-docs/stable/user_guide/indexing.html#returning-a-view-versus-a-copy\n"
     ]
    }
   ],
   "source": [
    "import pandas as pd\n",
    "import re\n",
    "import os\n",
    "import logging\n",
    "import sys\n",
    "\n",
    "\n",
    "def preprocess_dataset(day,nrow=-1):\n",
    "    if nrow==-1:\n",
    "        neg_data = pd.read_csv(\"/bigtemp/rm5tx/nlp_project/\"+day+\"_for_model_2_tuned.csv\")\n",
    "    else:\n",
    "        neg_data = pd.read_csv(\"/bigtemp/rm5tx/nlp_project/\"+day+\"_for_model_2_tuned.csv\",nrows=nrow)\n",
    "    print(\"removing irrelevant data\")\n",
    "    neg_data = neg_data.dropna(subset=['author', 'data'])\n",
    "    neg_data = neg_data[neg_data.author!='[deleted]']\n",
    "    neg_data = neg_data[neg_data.author!='AutoModerator']\n",
    "\n",
    "    return neg_data\n",
    "\n",
    "def get_toxic_users(neg_data,min_threshold=5):\n",
    "    toxic_df = neg_data[neg_data['label']==1.0]\n",
    "    toxic_author = toxic_df['author'].value_counts().to_frame().reset_index()\n",
    "    toxic_author.rename(columns = {'index':'author','author':'toxic_count'},inplace = True)\n",
    "    \n",
    "    top_toxic_author = toxic_author[toxic_author.toxic_count>=min_threshold]\n",
    "    toxic_user_list = top_toxic_author['author'].tolist()\n",
    "    #toxic_user_list.remove('[deleted]')\n",
    "    print('extracted toxic users')\n",
    "    \n",
    "    return toxic_user_list\n",
    "\n",
    "def get_adjacent_dataset(user_list,dummy_data,max_threshold=500):\n",
    "    pos_data = dummy_data[dummy_data.author.isin(user_list)]\n",
    "    pos_author = pos_data['author'].value_counts().to_frame().reset_index()\n",
    "    pos_author.rename(columns = {'index':'author','author':'toxic_count'},inplace = True)\n",
    "    pos_toxic_author = pos_author[pos_author.toxic_count<=max_threshold]\n",
    "    toxic_user_list = pos_toxic_author['author'].tolist()\n",
    "    pos_data = pos_data[pos_data.author.isin(toxic_user_list)]\n",
    "    print('extracted comments of toxic users')\n",
    "    \n",
    "    neg_data = dummy_data[~dummy_data.author.isin(user_list)]\n",
    "    print('extracted comments of non-toxic users')\n",
    "    return pos_data,neg_data\n",
    "\n",
    "\n",
    "day = \"2016-06\" #first parameter for notebook, for python code it will be sys.argv[1]\n",
    "min_toxic_comment = 1 # second paramter for notebook, for python code it will be sys.argv[2]\n",
    "max_toxic_comment = 100000 # second paramter for notebook, for python code it will be sys.argv[2]\n",
    "\n",
    "\n",
    "dummy_df = preprocess_dataset(day)\n",
    "print(dummy_df.shape)\n",
    "\n",
    "pos_counts = dummy_df['author'][dummy_df['label']==1.0]].value_counts()\n",
    "\n",
    "counts = pd.concat([ pos, neg['author'].value_counts()], axis=1)\n",
    "\n",
    "\n",
    "\n",
    "toxic_users = get_toxic_users(dummy_df,min_threshold=min_toxic_comment)\n",
    "print(\"number of toxic users \",len(toxic_users))\n",
    "print(toxic_users[0:10])\n",
    "\n",
    "pos_df,neg_df = get_adjacent_dataset(toxic_users,dummy_df,max_threshold=max_toxic_comment)\n",
    "print(pos_df.shape)\n",
    "print(neg_df.shape)\n",
    "pos_df['label'] = 1.0\n",
    "neg_df['label'] = 0.0\n"
   ]
  },
  {
   "cell_type": "code",
   "execution_count": 36,
   "metadata": {},
   "outputs": [],
   "source": [
    "\n",
    "pos_counts = dummy_df['author'][dummy_df['label']==1.0].value_counts().rename(\"pos\")\n",
    "neg_counts = dummy_df['author'][dummy_df['label']==0.0].value_counts().rename(\"neg\")"
   ]
  },
  {
   "cell_type": "code",
   "execution_count": 66,
   "metadata": {},
   "outputs": [
    {
     "output_type": "stream",
     "name": "stdout",
     "text": [
      "48193.0\n"
     ]
    }
   ],
   "source": [
    "\n",
    "pos_counts = dummy_df['author'][dummy_df['label']==1.0].value_counts().rename(\"pos\")\n",
    "neg_counts = dummy_df['author'][dummy_df['label']==0.0].value_counts().rename(\"neg\")\n",
    "counts = pd.concat([pos_counts, neg_counts], axis=1)\n",
    "counts['ratio'] = counts.pos / counts.neg\n",
    "counts['total'] = counts.pos + counts.neg\n",
    "counts = counts.dropna()\n",
    "\n",
    "rat = .3\n",
    "tot = 2\n",
    "print(counts['total'][(counts['ratio'] >= rat) & (counts['total'] >= tot)].sum())\n",
    "toxic_list = "
   ]
  },
  {
   "cell_type": "code",
   "execution_count": 82,
   "metadata": {},
   "outputs": [
    {
     "output_type": "stream",
     "name": "stdout",
     "text": [
      "12164.0\n5948\n"
     ]
    }
   ],
   "source": [
    "rat = 1.0\n",
    "tot = 0\n",
    "print(counts['total'][(counts['ratio'] >= rat) & (counts['total'] >= tot)].sum())\n",
    "print(len(counts[(counts['ratio'] >= rat) & (counts['total'] >= tot)].index))"
   ]
  },
  {
   "cell_type": "code",
   "execution_count": 44,
   "metadata": {},
   "outputs": [
    {
     "output_type": "execute_result",
     "data": {
      "text/plain": [
       "                    pos    neg     ratio  total\n",
       "HungAndSung         3.0    1.0  3.000000    4.0\n",
       "namaloom            2.0    1.0  2.000000    3.0\n",
       "the_lurking_turkey  2.0    1.0  2.000000    3.0\n",
       "sparkyibew100       2.0    1.0  2.000000    3.0\n",
       "ShadynastyS14       2.0    1.0  2.000000    3.0\n",
       "...                 ...    ...       ...    ...\n",
       "xTRYPTAMINEx        1.0  530.0  0.001887  531.0\n",
       "peppermind          1.0  554.0  0.001805  555.0\n",
       "I_Dumped_Adele      1.0  571.0  0.001751  572.0\n",
       "Reecey94            1.0  627.0  0.001595  628.0\n",
       "gurrllness          1.0  673.0  0.001486  674.0\n",
       "\n",
       "[151009 rows x 4 columns]"
      ],
      "text/html": "<div>\n<style scoped>\n    .dataframe tbody tr th:only-of-type {\n        vertical-align: middle;\n    }\n\n    .dataframe tbody tr th {\n        vertical-align: top;\n    }\n\n    .dataframe thead th {\n        text-align: right;\n    }\n</style>\n<table border=\"1\" class=\"dataframe\">\n  <thead>\n    <tr style=\"text-align: right;\">\n      <th></th>\n      <th>pos</th>\n      <th>neg</th>\n      <th>ratio</th>\n      <th>total</th>\n    </tr>\n  </thead>\n  <tbody>\n    <tr>\n      <th>HungAndSung</th>\n      <td>3.0</td>\n      <td>1.0</td>\n      <td>3.000000</td>\n      <td>4.0</td>\n    </tr>\n    <tr>\n      <th>namaloom</th>\n      <td>2.0</td>\n      <td>1.0</td>\n      <td>2.000000</td>\n      <td>3.0</td>\n    </tr>\n    <tr>\n      <th>the_lurking_turkey</th>\n      <td>2.0</td>\n      <td>1.0</td>\n      <td>2.000000</td>\n      <td>3.0</td>\n    </tr>\n    <tr>\n      <th>sparkyibew100</th>\n      <td>2.0</td>\n      <td>1.0</td>\n      <td>2.000000</td>\n      <td>3.0</td>\n    </tr>\n    <tr>\n      <th>ShadynastyS14</th>\n      <td>2.0</td>\n      <td>1.0</td>\n      <td>2.000000</td>\n      <td>3.0</td>\n    </tr>\n    <tr>\n      <th>...</th>\n      <td>...</td>\n      <td>...</td>\n      <td>...</td>\n      <td>...</td>\n    </tr>\n    <tr>\n      <th>xTRYPTAMINEx</th>\n      <td>1.0</td>\n      <td>530.0</td>\n      <td>0.001887</td>\n      <td>531.0</td>\n    </tr>\n    <tr>\n      <th>peppermind</th>\n      <td>1.0</td>\n      <td>554.0</td>\n      <td>0.001805</td>\n      <td>555.0</td>\n    </tr>\n    <tr>\n      <th>I_Dumped_Adele</th>\n      <td>1.0</td>\n      <td>571.0</td>\n      <td>0.001751</td>\n      <td>572.0</td>\n    </tr>\n    <tr>\n      <th>Reecey94</th>\n      <td>1.0</td>\n      <td>627.0</td>\n      <td>0.001595</td>\n      <td>628.0</td>\n    </tr>\n    <tr>\n      <th>gurrllness</th>\n      <td>1.0</td>\n      <td>673.0</td>\n      <td>0.001486</td>\n      <td>674.0</td>\n    </tr>\n  </tbody>\n</table>\n<p>151009 rows × 4 columns</p>\n</div>"
     },
     "metadata": {},
     "execution_count": 44
    }
   ],
   "source": [
    "counts.sort_values(by='ratio', ascending=False)"
   ]
  },
  {
   "cell_type": "code",
   "execution_count": 7,
   "metadata": {},
   "outputs": [
    {
     "output_type": "execute_result",
     "data": {
      "text/plain": [
       "author\n",
       "----------_----          36\n",
       "--------_-------         17\n",
       "-----____---___          36\n",
       "----Pyro----             10\n",
       "----feelingporny----     12\n",
       "                       ... \n",
       "zzzxxxccc1               43\n",
       "zzzz_z                   48\n",
       "zzzzcharliezzzz           2\n",
       "zzzzz94                 108\n",
       "zzzzzzzxxxxxxxxx         86\n",
       "Name: data, Length: 157673, dtype: int64"
      ]
     },
     "metadata": {},
     "execution_count": 7
    }
   ],
   "source": [
    "\n",
    "a = pos_df.groupby('author')['data'].count()"
   ]
  },
  {
   "cell_type": "code",
   "execution_count": 22,
   "metadata": {},
   "outputs": [
    {
     "output_type": "execute_result",
     "data": {
      "text/plain": [
       "21412"
      ]
     },
     "metadata": {},
     "execution_count": 22
    }
   ],
   "source": [
    "a[a >= 1][a <= 4].count()"
   ]
  },
  {
   "cell_type": "code",
   "execution_count": 18,
   "metadata": {},
   "outputs": [
    {
     "output_type": "stream",
     "name": "stdout",
     "text": [
      "1        6443\n2        5698\n3        4939\n4        4332\n5        4009\n6        3798\n7        3409\n8        3288\n9        2980\n11       2735\n10       2728\n12       2544\n13       2382\n15       2260\n14       2248\n16       2172\n17       2069\n18       1997\n19       1961\n20       1823\n23       1774\n21       1745\n22       1719\n24       1617\n26       1539\n25       1516\n27       1461\n28       1431\n29       1413\n33       1329\n31       1313\n30       1292\n34       1280\n32       1270\n36       1177\n35       1146\n37       1112\n39       1095\n38       1091\n40       1029\n42       1020\n41       1001\n46        946\n45        931\n44        921\n43        920\n47        917\n48        870\n50        861\n51        833\n49        820\n56        765\n55        761\n54        758\n52        753\n53        729\n57        726\n59        707\n60        695\n62        666\n61        664\n58        661\n65        660\n66        613\n67        610\n63        582\n64        571\n69        559\n71        556\n68        554\n72        542\n75        539\n73        535\n74        520\n70        516\n76        502\n77        500\n81        489\n78        487\n82        468\n83        449\n85        446\n79        445\n80        435\n87        422\n86        420\n88        419\n84        417\n95        409\n94        393\n93        387\n90        380\n89        379\n96        376\n91        374\n97        372\n102       361\n100       361\n98        358\n92        354\n101       346\n103       343\n99        334\n104       327\n109       323\n106       323\n108       310\n107       309\n110       308\n120       305\n105       302\n115       297\n112       294\n111       287\n118       286\n113       284\n114       279\n117       261\n119       256\n123       251\n121       247\n116       246\n128       242\n130       238\n124       234\n125       231\n122       229\n127       229\n126       228\n131       223\n132       222\n129       221\n134       221\n145       220\n135       217\n138       213\n140       207\n139       204\n136       203\n141       199\n146       198\n137       197\n142       196\n133       196\n144       191\n147       191\n143       184\n151       183\n150       181\n155       180\n161       174\n159       173\n156       173\n148       169\n158       167\n154       166\n152       165\n149       165\n160       159\n153       158\n163       157\n164       149\n165       144\n171       143\n170       143\n172       142\n167       142\n162       141\n157       140\n166       137\n174       134\n168       131\n185       129\n173       128\n180       120\n193       118\n184       117\n190       117\n179       116\n176       115\n178       114\n182       112\n177       109\n169       108\n186       108\n201       108\n183       108\n202       107\n208       107\n198       107\n203       106\n191       105\n197       104\n196       104\n189       103\n181       102\n175       101\n188       101\n187        98\n199        98\n192        97\n213        94\n195        92\n204        88\n194        87\n223        87\n200        87\n205        85\n212        85\n214        84\n219        83\n220        83\n224        83\n216        82\n234        82\n211        80\n207        80\n209        80\n210        79\n226        78\n217        76\n227        75\n233        75\n228        74\n206        74\n232        73\n236        72\n218        71\n215        71\n238        70\n242        70\n249        68\n245        67\n231        66\n246        66\n248        66\n237        66\n230        66\n222        66\n258        65\n261        64\n235        63\n250        62\n221        61\n241        60\n251        59\n229        59\n225        59\n243        58\n291        58\n244        58\n239        58\n267        57\n264        56\n247        55\n270        55\n240        54\n265        54\n254        53\n271        52\n297        52\n257        52\n260        52\n253        51\n255        51\n278        51\n293        50\n289        49\n274        49\n302        49\n276        49\n252        48\n279        48\n256        47\n275        47\n268        47\n262        47\n280        47\n299        47\n301        47\n300        46\n272        46\n290        46\n282        45\n288        45\n266        43\n277        43\n317        42\n263        41\n292        41\n294        40\n325        40\n273        40\n259        40\n286        40\n348        39\n281        39\n319        37\n295        37\n269        37\n318        36\n312        36\n381        35\n303        35\n283        35\n330        34\n332        34\n343        34\n306        34\n287        34\n309        33\n337        33\n358        33\n296        33\n298        33\n311        33\n323        32\n316        32\n307        32\n310        32\n308        32\n305        32\n314        31\n304        31\n321        31\n320        31\n284        31\n336        31\n334        30\n341        30\n338        30\n324        29\n315        29\n328        29\n342        29\n356        29\n347        29\n322        29\n360        28\n285        28\n378        28\n382        28\n397        28\n350        27\n387        27\n346        27\n362        26\n391        26\n383        26\n357        26\n359        26\n326        25\n355        25\n349        25\n339        25\n313        25\n353        25\n345        25\n377        25\n335        25\n366        24\n333        24\n327        24\n386        24\n434        24\n361        23\n392        23\n329        23\n388        23\n376        22\n368        22\n340        22\n371        22\n369        22\n364        22\n385        22\n374        22\n440        21\n373        21\n384        21\n344        21\n363        21\n394        20\n331        20\n403        20\n398        19\n417        19\n448        19\n395        19\n457        19\n438        19\n402        19\n422        19\n415        18\n365        18\n390        18\n400        18\n354        17\n460        17\n407        17\n416        17\n439        17\n401        17\n461        17\n430        16\n429        16\n454        16\n367        16\n396        16\n455        16\n420        16\n464        16\n372        16\n399        16\n469        16\n351        16\n370        15\n459        15\n442        15\n418        15\n477        15\n414        15\n456        15\n405        15\n409        15\n410        14\n472        14\n389        14\n478        14\n445        14\n468        14\n488        14\n352        14\n443        14\n408        14\n413        14\n441        14\n462        13\n423        13\n419        13\n432        13\n433        13\n466        13\n412        13\n532        13\n404        13\n425        13\n467        13\n452        13\n379        13\n421        13\n393        13\n484        13\n586        13\n496        13\n431        13\n530        12\n509        12\n465        12\n559        12\n604        12\n580        12\n380        12\n480        12\n436        12\n495        12\n426        12\n411        12\n446        12\n485        12\n493        12\n501        12\n444        12\n428        11\n486        11\n375        11\n479        11\n528        11\n502        11\n526        11\n572        11\n531        11\n458        11\n543        11\n510        11\n554        11\n482        11\n549        10\n437        10\n648        10\n449        10\n463        10\n512        10\n505        10\n406        10\n476        10\n608        10\n556        10\n517        10\n513        10\n487        10\n654        10\n511        10\n614        10\n587         9\n424         9\n569         9\n602         9\n471         9\n523         9\n633         9\n533         9\n475         9\n676         9\n481         9\n451         9\n494         9\n641         9\n561         9\n503         9\n506         9\n450         9\n427         9\n447         9\n499         8\n570         8\n504         8\n581         8\n500         8\n558         8\n473         8\n537         8\n474         8\n603         8\n636         8\n563         8\n568         8\n645         8\n527         8\n519         8\n529         8\n525         8\n483         8\n622         8\n685         8\n653         8\n684         8\n547         8\n621         8\n613         8\n683         8\n589         8\n639         7\n707         7\n691         7\n698         7\n435         7\n489         7\n514         7\n553         7\n578         7\n491         7\n498         7\n546         7\n731         7\n507         7\n600         7\n711         7\n564         7\n567         7\n627         7\n571         7\n583         7\n623         7\n751         7\n470         7\n631         7\n575         7\n541         7\n560         7\n630         7\n536         7\n555         6\n694         6\n637         6\n669         6\n534         6\n607         6\n544         6\n490         6\n780         6\n593         6\n596         6\n610         6\n659         6\n539         6\n521         6\n609         6\n606         6\n516         6\n681         6\n453         6\n579         6\n663         6\n605         6\n508         6\n552         6\n566         5\n592         5\n662         5\n515         5\n670         5\n889         5\n542         5\n901         5\n518         5\n595         5\n687         5\n760         5\n535         5\n617         5\n538         5\n599         5\n791         5\n638         5\n632         5\n520         5\n671         5\n588         5\n650         5\n682         5\n763         5\n591         5\n775         5\n574         5\n497         5\n762         5\n625         5\n819         5\n620         5\n492         5\n747         5\n576         5\n545         5\n573         5\n823         4\n734         4\n661         4\n562         4\n1160        4\n696         4\n1032        4\n660         4\n752         4\n756         4\n624         4\n649         4\n522         4\n750         4\n773         4\n767         4\n611         4\n658         4\n612         4\n651         4\n652         4\n774         4\n782         4\n744         4\n820         4\n705         4\n896         4\n584         4\n800         4\n590         4\n893         4\n673         4\n675         4\n585         4\n840         4\n677         4\n754         4\n933         4\n703         4\n582         4\n550         4\n551         4\n679         4\n704         4\n772         4\n719         4\n722         4\n699         4\n793         4\n728         4\n983         4\n813         4\n727         4\n557         3\n657         3\n808         3\n1045        3\n917         3\n686         3\n665         3\n1054        3\n940         3\n799         3\n1065        3\n667         3\n688         3\n540         3\n548         3\n668         3\n926         3\n770         3\n647         3\n1058        3\n674         3\n801         3\n924         3\n642         3\n702         3\n828         3\n700         3\n1127        3\n829         3\n867         3\n973         3\n601         3\n956         3\n879         3\n720         3\n846         3\n1146        3\n826         3\n635         3\n1147        3\n735         3\n730         3\n716         3\n615         3\n1086        3\n626         3\n577         3\n714         3\n883         3\n884         3\n712         3\n860         3\n870         3\n838         3\n708         3\n710         3\n629         3\n757         3\n697         3\n709         3\n597         3\n1205        3\n594         3\n619         3\n749         3\n766         3\n746         3\n853         3\n598         3\n765         3\n692         3\n1039        2\n723         2\n1932        2\n842         2\n1822        2\n655         2\n1159        2\n803         2\n1110        2\n1098        2\n776         2\n792         2\n1011        2\n628         2\n1188        2\n902         2\n1129        2\n618         2\n646         2\n806         2\n678         2\n965         2\n981         2\n1316        2\n1573        2\n967         2\n1095        2\n1012        2\n724         2\n1491        2\n881         2\n743         2\n920         2\n1005        2\n1291        2\n1049        2\n1358        2\n873         2\n907         2\n616         2\n721         2\n1439        2\n1183        2\n1055        2\n847         2\n976         2\n1103        2\n848         2\n1487        2\n928         2\n666         2\n1007        2\n845         2\n844         2\n972         2\n524         2\n857         2\n729         2\n1417        2\n922         2\n876         2\n797         2\n1229        2\n794         2\n718         2\n748         2\n656         2\n947         2\n837         2\n909         2\n943         2\n824         2\n952         2\n1080        2\n1378        2\n863         2\n1326        2\n814         2\n825         2\n1170        2\n1069        2\n890         2\n827         2\n1013        2\n1026        2\n786         2\n812         2\n634         2\n701         2\n957         2\n815         2\n1375        2\n1145        2\n769         2\n895         2\n818         2\n690         2\n736         2\n565         2\n993         2\n945         2\n817         2\n689         2\n693         2\n821         2\n816         2\n822         2\n1206        2\n1334        2\n994         2\n695         2\n1079        2\n1276        2\n1213        2\n955         2\n1251        2\n759         2\n644         2\n961         2\n887         2\n706         2\n834         2\n900         2\n1302        2\n936         2\n1399        2\n758         2\n869         2\n1397        2\n836         2\n935         2\n807         2\n1285        2\n785         2\n795         2\n830         2\n831         2\n888         2\n811         2\n1379        2\n1016        2\n810         2\n989         2\n1682        1\n1421        1\n1633        1\n1636        1\n739         1\n1549        1\n742         1\n1293        1\n4066        1\n1681        1\n1296        1\n1043        1\n1811        1\n871         1\n997         1\n1037        1\n784         1\n738         1\n1252        1\n3429        1\n913         1\n910         1\n911         1\n872         1\n3049        1\n914         1\n1166        1\n740         1\n1294        1\n1122        1\n995         1\n1295        1\n2280        1\n1638        1\n745         1\n1383        1\n998         1\n868         1\n1256        1\n753         1\n1513        1\n1156        1\n643         1\n899         1\n1155        1\n1411        1\n1400        1\n1143        1\n2821        1\n1284        1\n1273        1\n1782        1\n1654        1\n886         1\n1653        1\n1525        1\n1157        1\n1269        1\n1017        1\n1401        1\n1002        1\n897         1\n2942        1\n4221        1\n1150        1\n1280        1\n894         1\n1789        1\n2300        1\n1025        1\n1922        1\n1153        1\n1409        1\n1020        1\n891         1\n1786        1\n2691        1\n1282        1\n2804        1\n1524        1\n1030        1\n779         1\n2699        1\n778         1\n1034        1\n1773        1\n1645        1\n877         1\n1132        1\n1163        1\n1140        1\n1419        1\n1771        1\n875         1\n1898        1\n908         1\n1036        1\n1130        1\n1006        1\n1134        1\n2030        1\n1135        1\n2165        1\n15988       1\n1395        1\n2546        1\n1266        1\n1010        1\n904         1\n865         1\n1544        1\n1520        1\n1136        1\n880         1\n2417        1\n2289        1\n1391        1\n1939        1\n1112        1\n737         1\n1092        1\n1445        1\n1478        1\n1221        1\n934         1\n1062        1\n1318        1\n2086        1\n1476        1\n1220        1\n964         1\n968         1\n1831        1\n2117        1\n1987        1\n1475        1\n680         1\n1219        1\n1064        1\n1704        1\n835         1\n1223        1\n1096        1\n1357        1\n843         1\n1740        1\n1569        1\n1484        1\n1228        1\n3021        1\n802         1\n2381        1\n2253        1\n1099        1\n1226        1\n1224        1\n970         1\n931         1\n1059        1\n1571        1\n1865        1\n1225        1\n841         1\n713         1\n932         1\n2216        1\n1986        1\n962         1\n1327        1\n1209        1\n953         1\n1070        1\n1454        1\n1966        1\n2360        1\n1207        1\n1071        1\n1199        1\n2742        1\n1089        1\n944         1\n1072        1\n1973        1\n1717        1\n1201        1\n948         1\n2613        1\n1075        1\n1074        1\n1721        1\n954         1\n941         1\n1466        1\n937         1\n1600        1\n960         1\n959         1\n1214        1\n1066        1\n3883        1\n1023        1\n2239        1\n1981        1\n1341        1\n939         1\n1067        1\n1707        1\n1340        1\n1212        1\n3005        1\n1196        1\n1339        1\n717         1\n2080        1\n2272        1\n859         1\n1627        1\n1499        1\n1243        1\n1115        1\n919         1\n1047        1\n1431        1\n1559        1\n987         1\n1242        1\n2198        1\n858         1\n2779        1\n664         1\n1048        1\n1176        1\n1688        1\n1753        1\n2264        1\n1202        1\n732         1\n988         1\n1952        1\n1246        1\n864         1\n2145        1\n788         1\n1428        1\n1940        1\n1247        1\n991         1\n2142        1\n789         1\n1118        1\n1174        1\n1429        1\n1685        1\n2271        1\n1885        1\n1245        1\n1117        1\n733         1\n790         1\n918         1\n921         1\n1177        1\n1433        1\n1232        1\n925         1\n1053        1\n1437        1\n3612        1\n1821        1\n1105        1\n977         1\n849         1\n2256        1\n798         1\n1561        1\n1743        1\n1359        1\n975         1\n2126        1\n1614        1\n1102        1\n974         1\n672         1\n1184        1\n1233        1\n1361        1\n978         1\n1490        1\n984         1\n2007        1\n1111        1\n1750        1\n1366        1\n726         1\n1493        1\n1365        1\n1237        1\n2842        1\n1051        1\n1307        1\n1691        1\n1108        1\n796         1\n1052        1\n1436        1\n1948        1\n1618        1\n1151        1\nName: author, dtype: int64\n"
     ]
    }
   ],
   "source": [
    "# a[a > 500]\n",
    "with pd.option_context('display.max_rows', None, 'display.max_columns', None):  # more options can be specified also\n",
    "    print(a.value_counts())"
   ]
  },
  {
   "cell_type": "code",
   "execution_count": null,
   "metadata": {},
   "outputs": [],
   "source": []
  }
 ]
}