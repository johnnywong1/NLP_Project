{
 "cells": [
  {
   "cell_type": "code",
   "execution_count": 1,
   "metadata": {
    "collapsed": true
   },
   "outputs": [],
   "source": [
    "import pandas as pd\n",
    "# import re\n",
    "import os\n",
    "# import logging\n",
    "import sys\n",
    "\n"
   ]
  },
  {
   "cell_type": "code",
   "execution_count": 2,
   "metadata": {
    "collapsed": true
   },
   "outputs": [],
   "source": [
    "model_1_output_file = '/bigtemp/rm5tx/nlp_project/2016-07_base_model.csv'\n",
    "model_2_output_file = '/bigtemp/rm5tx/nlp_project/2016-07_adj_model.csv'\n",
    "\n",
    "#model_1_output_file = '/bigtemp/rm5tx/nlp_project/2016-07_all_predicted_base_model_3.csv'\n",
    "#model_2_output_file = '/bigtemp/rm5tx/nlp_project/2016-07_all_predicted_adj_model_3.csv'\n",
    "\n"
   ]
  },
  {
   "cell_type": "code",
   "execution_count": 3,
   "metadata": {
    "scrolled": true
   },
   "outputs": [
    {
     "output_type": "stream",
     "name": "stderr",
     "text": [
      "/localtmp/rm5tx/conda/envs/slocal/lib/python3.6/site-packages/IPython/core/interactiveshell.py:2714: DtypeWarning: Columns (19) have mixed types.Specify dtype option on import or set low_memory=False.\n  interactivity=interactivity, compiler=compiler, result=result)\n"
     ]
    },
    {
     "output_type": "execute_result",
     "data": {
      "text/plain": [
       "(17612621, 4)"
      ]
     },
     "metadata": {},
     "execution_count": 3
    }
   ],
   "source": [
    "df1 = pd.read_csv(model_1_output_file)\n",
    "df1 = df1.dropna(subset=['id'])\n",
    "df1 = df1[df1.id!='d5dtger']\n",
    "df1 = df1[df1.id!='[deleted]']\n",
    "df1 = df1[df1.id!='[removed]']\n",
    "df1 = df1[['id','author','data','label']]\n",
    "df1 = df1.rename(columns={'label':'base_label'})\n",
    "# print(df1.shape)\n",
    "# print(df1[df1.label==1.0][['author','data','label']].head(20))\n",
    "# print(df1[df1.label==1.0][['author','data','label']].shape)\n",
    "# print(df1['id'].nunique())\n",
    "df1.shape\n"
   ]
  },
  {
   "cell_type": "code",
   "execution_count": 4,
   "metadata": {},
   "outputs": [
    {
     "output_type": "stream",
     "name": "stderr",
     "text": [
      "/localtmp/rm5tx/conda/envs/slocal/lib/python3.6/site-packages/IPython/core/interactiveshell.py:2714: DtypeWarning: Columns (19) have mixed types.Specify dtype option on import or set low_memory=False.\n  interactivity=interactivity, compiler=compiler, result=result)\n"
     ]
    },
    {
     "output_type": "execute_result",
     "data": {
      "text/plain": [
       "(17612621, 4)"
      ]
     },
     "metadata": {},
     "execution_count": 4
    }
   ],
   "source": [
    "df2 = pd.read_csv(model_2_output_file)\n",
    "df2 = df2.dropna(subset=['id'])\n",
    "df2 = df2[df2.id!='d5dtger']\n",
    "df2 = df2[df2.id!='[deleted]']\n",
    "df2 = df2[df2.id!='[removed]']\n",
    "df2 = df2[['id','author','data','label']]\n",
    "df2 = df2.rename(columns={'label':'adj_label'})\n",
    "# print(df1.shape)\n",
    "# print(df1[df1.label==1.0][['author','data','label']].head(20))\n",
    "# print(df1[df1.label==1.0][['author','data','label']].shape)\n",
    "# print(df1['id'].nunique())\n",
    "df2.shape\n"
   ]
  },
  {
   "cell_type": "code",
   "execution_count": 5,
   "metadata": {
    "collapsed": true
   },
   "outputs": [],
   "source": [
    "df1 = df1.drop_duplicates(subset=['id'])\n",
    "df2 = df2.drop_duplicates(subset=['id'])"
   ]
  },
  {
   "cell_type": "code",
   "execution_count": 6,
   "metadata": {},
   "outputs": [
    {
     "output_type": "stream",
     "name": "stdout",
     "text": [
      "(17441621, 4)\n(17441621, 4)\n"
     ]
    }
   ],
   "source": [
    "print(df1.shape)\n",
    "print(df2.shape)"
   ]
  },
  {
   "cell_type": "code",
   "execution_count": 7,
   "metadata": {},
   "outputs": [
    {
     "output_type": "execute_result",
     "data": {
      "text/plain": [
       "        id              author  \\\n",
       "0  d54gn5b  CeleryStickBeating   \n",
       "1  d54gn5d           [deleted]   \n",
       "2  d54gn5f               zag83   \n",
       "3  d54gn5g       TrapLord12345   \n",
       "4  d54gn5h   ihateallthethings   \n",
       "\n",
       "                                                data  base_label  adj_label  \n",
       "0  Bullshit He was cornered but still firing on p...         0.0        0.0  \n",
       "1                                            removed         0.0        1.0  \n",
       "2  You re comparing small homogeneous countries w...         0.0        0.0  \n",
       "3  I m actually a criminal defense attorney in NY...         0.0        1.0  \n",
       "4  This reminds me of Boris Diaw in all the best ...         0.0        1.0  "
      ],
      "text/html": "<div>\n<style scoped>\n    .dataframe tbody tr th:only-of-type {\n        vertical-align: middle;\n    }\n\n    .dataframe tbody tr th {\n        vertical-align: top;\n    }\n\n    .dataframe thead th {\n        text-align: right;\n    }\n</style>\n<table border=\"1\" class=\"dataframe\">\n  <thead>\n    <tr style=\"text-align: right;\">\n      <th></th>\n      <th>id</th>\n      <th>author</th>\n      <th>data</th>\n      <th>base_label</th>\n      <th>adj_label</th>\n    </tr>\n  </thead>\n  <tbody>\n    <tr>\n      <th>0</th>\n      <td>d54gn5b</td>\n      <td>CeleryStickBeating</td>\n      <td>Bullshit He was cornered but still firing on p...</td>\n      <td>0.0</td>\n      <td>0.0</td>\n    </tr>\n    <tr>\n      <th>1</th>\n      <td>d54gn5d</td>\n      <td>[deleted]</td>\n      <td>removed</td>\n      <td>0.0</td>\n      <td>1.0</td>\n    </tr>\n    <tr>\n      <th>2</th>\n      <td>d54gn5f</td>\n      <td>zag83</td>\n      <td>You re comparing small homogeneous countries w...</td>\n      <td>0.0</td>\n      <td>0.0</td>\n    </tr>\n    <tr>\n      <th>3</th>\n      <td>d54gn5g</td>\n      <td>TrapLord12345</td>\n      <td>I m actually a criminal defense attorney in NY...</td>\n      <td>0.0</td>\n      <td>1.0</td>\n    </tr>\n    <tr>\n      <th>4</th>\n      <td>d54gn5h</td>\n      <td>ihateallthethings</td>\n      <td>This reminds me of Boris Diaw in all the best ...</td>\n      <td>0.0</td>\n      <td>1.0</td>\n    </tr>\n  </tbody>\n</table>\n</div>"
     },
     "metadata": {},
     "execution_count": 7
    }
   ],
   "source": [
    "all_df = df1.merge(df2[['id','adj_label']],on=['id'])\n",
    "all_df.head()"
   ]
  },
  {
   "cell_type": "code",
   "execution_count": 8,
   "metadata": {},
   "outputs": [
    {
     "output_type": "execute_result",
     "data": {
      "text/plain": [
       "(17441621, 5)"
      ]
     },
     "metadata": {},
     "execution_count": 8
    }
   ],
   "source": [
    "all_df.shape"
   ]
  },
  {
   "cell_type": "code",
   "execution_count": 9,
   "metadata": {},
   "outputs": [
    {
     "output_type": "execute_result",
     "data": {
      "text/plain": [
       "(11309870, 5)"
      ]
     },
     "metadata": {},
     "execution_count": 9
    }
   ],
   "source": [
    "differ_df = all_df[all_df.base_label!=all_df.adj_label]\n",
    "differ_df.shape"
   ]
  },
  {
   "cell_type": "code",
   "execution_count": 12,
   "metadata": {},
   "outputs": [],
   "source": [
    "all_df['type'] = all_df.base_label + all_df.adj_label*2\n",
    "all_df.dropna()\n",
    "all_df = all_df[all_df.author != '[deleted]']"
   ]
  },
  {
   "cell_type": "code",
   "execution_count": 37,
   "metadata": {},
   "outputs": [
    {
     "output_type": "execute_result",
     "data": {
      "text/plain": [
       "2.0    9791108\n",
       "0.0    5453203\n",
       "1.0     102783\n",
       "3.0     102183\n",
       "Name: type, dtype: int64"
      ]
     },
     "metadata": {},
     "execution_count": 37
    }
   ],
   "source": [
    "all_df['type'].value_counts()\n",
    "#0 = both non-toxic\n",
    "#1 = base toxic\n",
    "#2 = adj toxic\n",
    "#3 = both toxic"
   ]
  },
  {
   "cell_type": "code",
   "execution_count": 41,
   "metadata": {},
   "outputs": [],
   "source": [
    "a = all_df[all_df.type == 2].sample(60)\n",
    "b = all_df[all_df.type == 1].sample(60)\n"
   ]
  },
  {
   "cell_type": "code",
   "execution_count": 42,
   "metadata": {},
   "outputs": [],
   "source": [
    "# with pd.option_context('display.max_rows', None, 'display.max_columns', 900):\n",
    "a.to_csv(\"samplea\")\n",
    "b.to_csv(\"sampleb\")"
   ]
  },
  {
   "cell_type": "code",
   "execution_count": null,
   "metadata": {},
   "outputs": [],
   "source": []
  },
  {
   "cell_type": "code",
   "execution_count": 10,
   "metadata": {
    "collapsed": true
   },
   "outputs": [
    {
     "output_type": "error",
     "ename": "FileExistsError",
     "evalue": "[Errno 17] File exists: '/bigtemp/rm5tx/nlp_project/model_comparison/'",
     "traceback": [
      "\u001b[0;31m---------------------------------------------------------------------------\u001b[0m",
      "\u001b[0;31mFileExistsError\u001b[0m                           Traceback (most recent call last)",
      "\u001b[0;32m<ipython-input-10-6b4632bfcbfd>\u001b[0m in \u001b[0;36m<module>\u001b[0;34m()\u001b[0m\n\u001b[1;32m      1\u001b[0m \u001b[0mout_path\u001b[0m \u001b[0;34m=\u001b[0m \u001b[0;34m'/bigtemp/rm5tx/nlp_project/model_comparison/'\u001b[0m\u001b[0;34m\u001b[0m\u001b[0;34m\u001b[0m\u001b[0m\n\u001b[0;32m----> 2\u001b[0;31m \u001b[0mos\u001b[0m\u001b[0;34m.\u001b[0m\u001b[0mmakedirs\u001b[0m\u001b[0;34m(\u001b[0m\u001b[0mout_path\u001b[0m\u001b[0;34m)\u001b[0m\u001b[0;34m\u001b[0m\u001b[0;34m\u001b[0m\u001b[0m\n\u001b[0m",
      "\u001b[0;32m/localtmp/rm5tx/conda/envs/slocal/lib/python3.6/os.py\u001b[0m in \u001b[0;36mmakedirs\u001b[0;34m(name, mode, exist_ok)\u001b[0m\n\u001b[1;32m    218\u001b[0m             \u001b[0;32mreturn\u001b[0m\u001b[0;34m\u001b[0m\u001b[0;34m\u001b[0m\u001b[0m\n\u001b[1;32m    219\u001b[0m     \u001b[0;32mtry\u001b[0m\u001b[0;34m:\u001b[0m\u001b[0;34m\u001b[0m\u001b[0;34m\u001b[0m\u001b[0m\n\u001b[0;32m--> 220\u001b[0;31m         \u001b[0mmkdir\u001b[0m\u001b[0;34m(\u001b[0m\u001b[0mname\u001b[0m\u001b[0;34m,\u001b[0m \u001b[0mmode\u001b[0m\u001b[0;34m)\u001b[0m\u001b[0;34m\u001b[0m\u001b[0;34m\u001b[0m\u001b[0m\n\u001b[0m\u001b[1;32m    221\u001b[0m     \u001b[0;32mexcept\u001b[0m \u001b[0mOSError\u001b[0m\u001b[0;34m:\u001b[0m\u001b[0;34m\u001b[0m\u001b[0;34m\u001b[0m\u001b[0m\n\u001b[1;32m    222\u001b[0m         \u001b[0;31m# Cannot rely on checking for EEXIST, since the operating system\u001b[0m\u001b[0;34m\u001b[0m\u001b[0;34m\u001b[0m\u001b[0;34m\u001b[0m\u001b[0m\n",
      "\u001b[0;31mFileExistsError\u001b[0m: [Errno 17] File exists: '/bigtemp/rm5tx/nlp_project/model_comparison/'"
     ]
    }
   ],
   "source": [
    "out_path = '/bigtemp/rm5tx/nlp_project/model_comparison/'\n",
    "os.makedirs(out_path)"
   ]
  },
  {
   "cell_type": "code",
   "execution_count": 36,
   "metadata": {},
   "outputs": [
    {
     "name": "stdout",
     "output_type": "stream",
     "text": [
      "(113552, 5)\n"
     ]
    },
    {
     "data": {
      "text/html": [
       "<div>\n",
       "<style scoped>\n",
       "    .dataframe tbody tr th:only-of-type {\n",
       "        vertical-align: middle;\n",
       "    }\n",
       "\n",
       "    .dataframe tbody tr th {\n",
       "        vertical-align: top;\n",
       "    }\n",
       "\n",
       "    .dataframe thead th {\n",
       "        text-align: right;\n",
       "    }\n",
       "</style>\n",
       "<table border=\"1\" class=\"dataframe\">\n",
       "  <thead>\n",
       "    <tr style=\"text-align: right;\">\n",
       "      <th></th>\n",
       "      <th>id</th>\n",
       "      <th>author</th>\n",
       "      <th>data</th>\n",
       "      <th>base_label</th>\n",
       "      <th>adj_label</th>\n",
       "    </tr>\n",
       "  </thead>\n",
       "  <tbody>\n",
       "    <tr>\n",
       "      <th>14916584</th>\n",
       "      <td>d5s927j</td>\n",
       "      <td>GalacticGoldFish</td>\n",
       "      <td>Hillary would be in jail Trump and the word Pr...</td>\n",
       "      <td>1.0</td>\n",
       "      <td>0.0</td>\n",
       "    </tr>\n",
       "    <tr>\n",
       "      <th>14263028</th>\n",
       "      <td>d5r96ve</td>\n",
       "      <td>Sci-FiJazz</td>\n",
       "      <td>Hillsboro OR a safe distance from cucked as fu...</td>\n",
       "      <td>1.0</td>\n",
       "      <td>0.0</td>\n",
       "    </tr>\n",
       "    <tr>\n",
       "      <th>14753133</th>\n",
       "      <td>d5s0g67</td>\n",
       "      <td>cadaverco</td>\n",
       "      <td>No thread</td>\n",
       "      <td>1.0</td>\n",
       "      <td>0.0</td>\n",
       "    </tr>\n",
       "    <tr>\n",
       "      <th>12733134</th>\n",
       "      <td>d5oxhtq</td>\n",
       "      <td>BewareOfUser</td>\n",
       "      <td>Emotions are one thing Actions are controllabl...</td>\n",
       "      <td>1.0</td>\n",
       "      <td>0.0</td>\n",
       "    </tr>\n",
       "    <tr>\n",
       "      <th>15039530</th>\n",
       "      <td>d5sg81r</td>\n",
       "      <td>youre_real_uriel</td>\n",
       "      <td>I know exactly what you mean When I found out ...</td>\n",
       "      <td>1.0</td>\n",
       "      <td>0.0</td>\n",
       "    </tr>\n",
       "    <tr>\n",
       "      <th>4897969</th>\n",
       "      <td>d5c2km5</td>\n",
       "      <td>FezPaladin</td>\n",
       "      <td>Actually the stainless steel which yes doesn t...</td>\n",
       "      <td>1.0</td>\n",
       "      <td>0.0</td>\n",
       "    </tr>\n",
       "    <tr>\n",
       "      <th>288315</th>\n",
       "      <td>d54w9ia</td>\n",
       "      <td>-MoomBah-</td>\n",
       "      <td>The good ones are few and far between And when...</td>\n",
       "      <td>1.0</td>\n",
       "      <td>0.0</td>\n",
       "    </tr>\n",
       "    <tr>\n",
       "      <th>4158497</th>\n",
       "      <td>d5awzmj</td>\n",
       "      <td>DaltonTdwp</td>\n",
       "      <td>You re hired</td>\n",
       "      <td>1.0</td>\n",
       "      <td>0.0</td>\n",
       "    </tr>\n",
       "    <tr>\n",
       "      <th>1118184</th>\n",
       "      <td>d566iz7</td>\n",
       "      <td>[deleted]</td>\n",
       "      <td>removed</td>\n",
       "      <td>1.0</td>\n",
       "      <td>0.0</td>\n",
       "    </tr>\n",
       "    <tr>\n",
       "      <th>9319733</th>\n",
       "      <td>d5j57by</td>\n",
       "      <td>escapefromelba</td>\n",
       "      <td>A Canadian author He couldn t find an American...</td>\n",
       "      <td>1.0</td>\n",
       "      <td>0.0</td>\n",
       "    </tr>\n",
       "    <tr>\n",
       "      <th>13902779</th>\n",
       "      <td>d5qpth9</td>\n",
       "      <td>crustman34</td>\n",
       "      <td>of course he doesn t why would he want to up a...</td>\n",
       "      <td>1.0</td>\n",
       "      <td>0.0</td>\n",
       "    </tr>\n",
       "    <tr>\n",
       "      <th>13004386</th>\n",
       "      <td>d5pd3ql</td>\n",
       "      <td>H4Y4ST4N</td>\n",
       "      <td>Aw snap Europe servers I live in Belgium</td>\n",
       "      <td>1.0</td>\n",
       "      <td>0.0</td>\n",
       "    </tr>\n",
       "    <tr>\n",
       "      <th>10389592</th>\n",
       "      <td>d5kucup</td>\n",
       "      <td>[deleted]</td>\n",
       "      <td>removed</td>\n",
       "      <td>1.0</td>\n",
       "      <td>0.0</td>\n",
       "    </tr>\n",
       "    <tr>\n",
       "      <th>95754</th>\n",
       "      <td>d54lo2j</td>\n",
       "      <td>Colbyp212</td>\n",
       "      <td>RIP</td>\n",
       "      <td>1.0</td>\n",
       "      <td>0.0</td>\n",
       "    </tr>\n",
       "    <tr>\n",
       "      <th>10082286</th>\n",
       "      <td>d5kd0tw</td>\n",
       "      <td>Amardeus1</td>\n",
       "      <td>Shouldn t the title be Mei silly fanart idea</td>\n",
       "      <td>1.0</td>\n",
       "      <td>0.0</td>\n",
       "    </tr>\n",
       "    <tr>\n",
       "      <th>11161658</th>\n",
       "      <td>d5m0qxh</td>\n",
       "      <td>skucera</td>\n",
       "      <td>The movie is already 2 5 hours How much longer...</td>\n",
       "      <td>1.0</td>\n",
       "      <td>0.0</td>\n",
       "    </tr>\n",
       "    <tr>\n",
       "      <th>8353471</th>\n",
       "      <td>d5hnqlr</td>\n",
       "      <td>RandomGuyWithStick</td>\n",
       "      <td>No all eight</td>\n",
       "      <td>1.0</td>\n",
       "      <td>0.0</td>\n",
       "    </tr>\n",
       "    <tr>\n",
       "      <th>3465290</th>\n",
       "      <td>d59u0sm</td>\n",
       "      <td>Spikekuji</td>\n",
       "      <td>Weird I thought he did a very good job as I am...</td>\n",
       "      <td>1.0</td>\n",
       "      <td>0.0</td>\n",
       "    </tr>\n",
       "    <tr>\n",
       "      <th>10423046</th>\n",
       "      <td>d5kwclh</td>\n",
       "      <td>epicgrowl</td>\n",
       "      <td>r Gifsthatendtoosoon</td>\n",
       "      <td>1.0</td>\n",
       "      <td>0.0</td>\n",
       "    </tr>\n",
       "    <tr>\n",
       "      <th>2812923</th>\n",
       "      <td>d58ua77</td>\n",
       "      <td>pblood40</td>\n",
       "      <td>WoT I m a fan The first three books had me hoo...</td>\n",
       "      <td>1.0</td>\n",
       "      <td>0.0</td>\n",
       "    </tr>\n",
       "  </tbody>\n",
       "</table>\n",
       "</div>"
      ],
      "text/plain": [
       "               id              author  \\\n",
       "14916584  d5s927j    GalacticGoldFish   \n",
       "14263028  d5r96ve          Sci-FiJazz   \n",
       "14753133  d5s0g67           cadaverco   \n",
       "12733134  d5oxhtq        BewareOfUser   \n",
       "15039530  d5sg81r    youre_real_uriel   \n",
       "4897969   d5c2km5          FezPaladin   \n",
       "288315    d54w9ia           -MoomBah-   \n",
       "4158497   d5awzmj          DaltonTdwp   \n",
       "1118184   d566iz7           [deleted]   \n",
       "9319733   d5j57by      escapefromelba   \n",
       "13902779  d5qpth9          crustman34   \n",
       "13004386  d5pd3ql            H4Y4ST4N   \n",
       "10389592  d5kucup           [deleted]   \n",
       "95754     d54lo2j           Colbyp212   \n",
       "10082286  d5kd0tw           Amardeus1   \n",
       "11161658  d5m0qxh             skucera   \n",
       "8353471   d5hnqlr  RandomGuyWithStick   \n",
       "3465290   d59u0sm           Spikekuji   \n",
       "10423046  d5kwclh           epicgrowl   \n",
       "2812923   d58ua77            pblood40   \n",
       "\n",
       "                                                       data  base_label  \\\n",
       "14916584  Hillary would be in jail Trump and the word Pr...         1.0   \n",
       "14263028  Hillsboro OR a safe distance from cucked as fu...         1.0   \n",
       "14753133                                          No thread         1.0   \n",
       "12733134  Emotions are one thing Actions are controllabl...         1.0   \n",
       "15039530  I know exactly what you mean When I found out ...         1.0   \n",
       "4897969   Actually the stainless steel which yes doesn t...         1.0   \n",
       "288315    The good ones are few and far between And when...         1.0   \n",
       "4158497                                        You re hired         1.0   \n",
       "1118184                                             removed         1.0   \n",
       "9319733   A Canadian author He couldn t find an American...         1.0   \n",
       "13902779  of course he doesn t why would he want to up a...         1.0   \n",
       "13004386           Aw snap Europe servers I live in Belgium         1.0   \n",
       "10389592                                            removed         1.0   \n",
       "95754                                                   RIP         1.0   \n",
       "10082286       Shouldn t the title be Mei silly fanart idea         1.0   \n",
       "11161658  The movie is already 2 5 hours How much longer...         1.0   \n",
       "8353471                                        No all eight         1.0   \n",
       "3465290   Weird I thought he did a very good job as I am...         1.0   \n",
       "10423046                               r Gifsthatendtoosoon         1.0   \n",
       "2812923   WoT I m a fan The first three books had me hoo...         1.0   \n",
       "\n",
       "          adj_label  \n",
       "14916584        0.0  \n",
       "14263028        0.0  \n",
       "14753133        0.0  \n",
       "12733134        0.0  \n",
       "15039530        0.0  \n",
       "4897969         0.0  \n",
       "288315          0.0  \n",
       "4158497         0.0  \n",
       "1118184         0.0  \n",
       "9319733         0.0  \n",
       "13902779        0.0  \n",
       "13004386        0.0  \n",
       "10389592        0.0  \n",
       "95754           0.0  \n",
       "10082286        0.0  \n",
       "11161658        0.0  \n",
       "8353471         0.0  \n",
       "3465290         0.0  \n",
       "10423046        0.0  \n",
       "2812923         0.0  "
      ]
     },
     "execution_count": 36,
     "metadata": {},
     "output_type": "execute_result"
    }
   ],
   "source": [
    "base_pos_adj_neg = differ_df[differ_df.base_label==1.0]\n",
    "print(base_pos_adj_neg.shape)\n",
    "base_pos_adj_neg.to_csv()\n",
    "base_pos_adj_neg.sample(20)"
   ]
  },
  {
   "cell_type": "code",
   "execution_count": null,
   "metadata": {
    "collapsed": true
   },
   "outputs": [],
   "source": []
  }
 ],
 "metadata": {
  "kernelspec": {
   "name": "python388jvsc74a57bd0cb7147ee7c39139ff3e95f767688cc716c87c76ddac3d78e49686ef98354ac7c",
   "display_name": "Python 3.6.13 64-bit"
  },
  "language_info": {
   "codemirror_mode": {
    "name": "ipython",
    "version": 3
   },
   "file_extension": ".py",
   "mimetype": "text/x-python",
   "name": "python",
   "nbconvert_exporter": "python",
   "pygments_lexer": "ipython3",
   "version": "3.6.13"
  },
  "metadata": {
   "interpreter": {
    "hash": "cb7147ee7c39139ff3e95f767688cc716c87c76ddac3d78e49686ef98354ac7c"
   }
  }
 },
 "nbformat": 4,
 "nbformat_minor": 5
}