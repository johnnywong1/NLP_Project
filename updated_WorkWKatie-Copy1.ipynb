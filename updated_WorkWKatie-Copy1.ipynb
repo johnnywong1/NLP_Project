{
 "cells": [
  {
   "cell_type": "code",
   "execution_count": null,
   "id": "changed-superior",
   "metadata": {},
   "outputs": [],
   "source": []
  },
  {
   "cell_type": "code",
   "execution_count": null,
   "id": "american-fiber",
   "metadata": {},
   "outputs": [],
   "source": []
  },
  {
   "cell_type": "markdown",
   "id": "excellent-tourist",
   "metadata": {},
   "source": [
    "# Pre-processing Code"
   ]
  },
  {
   "cell_type": "code",
   "execution_count": 3,
   "id": "intense-origin",
   "metadata": {},
   "outputs": [],
   "source": []
  },
  {
   "cell_type": "code",
   "execution_count": 4,
   "id": "blessed-assistant",
   "metadata": {},
   "outputs": [],
   "source": []
  },
  {
   "cell_type": "code",
   "execution_count": 5,
   "id": "corresponding-logan",
   "metadata": {},
   "outputs": [],
   "source": []
  },
  {
   "cell_type": "code",
   "execution_count": 6,
   "id": "independent-vintage",
   "metadata": {},
   "outputs": [],
   "source": []
  },
  {
   "cell_type": "code",
   "execution_count": 7,
   "id": "persistent-italic",
   "metadata": {},
   "outputs": [],
   "source": []
  },
  {
   "cell_type": "code",
   "execution_count": 8,
   "id": "lined-ballot",
   "metadata": {},
   "outputs": [],
   "source": []
  },
  {
   "cell_type": "code",
   "execution_count": 9,
   "id": "increasing-customs",
   "metadata": {},
   "outputs": [],
   "source": []
  },
  {
   "cell_type": "code",
   "execution_count": 10,
   "id": "swedish-peoples",
   "metadata": {},
   "outputs": [],
   "source": [
    "# *** Dataloaders and devices are magic in lightning"
   ]
  },
  {
   "cell_type": "code",
   "execution_count": null,
   "id": "twenty-redhead",
   "metadata": {},
   "outputs": [
    {
     "name": "stdout",
     "output_type": "stream",
     "text": [
      "Preprocessing... 1. split new lines, 2. convert to lowercase, and 3. strip numbers and punct\n"
     ]
    }
   ],
   "source": [
    "\n",
    "\n",
    "def main():\n",
    "    \n",
    "\n",
    "#     # Create Dataloaders- a Python iterable over a dataset\n",
    "#     train_sampler = RandomSampler(train_data)\n",
    "#     train_dataloader = DataLoader(train_data, sampler=train_sampler, batch_size=TRAIN_BATCH_SIZE)\n",
    "\n",
    "#     validation_sampler = SequentialSampler(validation_data)\n",
    "#     validation_dataloader = DataLoader(validation_data, sampler=validation_sampler, batch_size=VAL_BATCH_SIZE)\n",
    "\n",
    "#     prediction_sampler = SequentialSampler(prediction_data)\n",
    "#     prediction_dataloader = DataLoader(prediction_data, sampler=prediction_sampler, batch_size=TEST_BATCH_SIZE)\n",
    "    \n",
    "\n",
    "    t_total = len(train_dataloader) * EPOCHS\n",
    "    # Store our loss and accuracy for plotting\n",
    "\n",
    "    best_val = -np.inf\n",
    "    \n",
    "    # trange is a tqdm wrapper around the normal python range\n",
    "    for epoch in trange(EPOCHS, desc=\"Epoch\"): \n",
    "    # Training\n",
    "        # Set our model to training mode (as opposed to evaluation mode)\n",
    "        # Tracking variables\n",
    "        tr_loss =  0\n",
    "        nb_tr_examples, nb_tr_steps = 0, 0\n",
    "        model.train()\n",
    "\n",
    "        # Train the data for one epoch\n",
    "        for step, batch in enumerate(train_dataloader):\n",
    "\n",
    "            # Add batch to GPU\n",
    "            batch = tuple(t.to(device) for t in batch)\n",
    "            # Unpack the inputs from our dataloader\n",
    "            b_input_ids, b_input_mask, b_labels = batch\n",
    "\n",
    "#             loss_ce = model(b_input_ids, token_type_ids=None, attention_mask=b_input_mask, labels=b_labels)[0]\n",
    "#             if torch.cuda.device_count() > 1:\n",
    "#                 loss_ce = loss_ce.mean()\n",
    "#             loss_ce.backward()\n",
    "\n",
    "            torch.nn.utils.clip_grad_norm_(model.parameters(), 1.0)\n",
    "\n",
    "            # Update parameters and take a step using the computed gradient\n",
    "            optimizer.step()\n",
    "\n",
    "            # Update tracking variables\n",
    "            tr_loss += loss_ce.item()\n",
    "\n",
    "            nb_tr_examples += b_input_ids.size(0)\n",
    "            nb_tr_steps += 1\n",
    "\n",
    "        print(\"Train cross entropy loss: {}\".format(tr_loss/nb_tr_steps))\n",
    "\n",
    "        # Validation\n",
    "        # Put model in evaluation mode to evaluate loss on the validation set\n",
    "        model.eval()\n",
    "        # Tracking variables \n",
    "        eval_accurate_nb = 0\n",
    "        nb_eval_examples = 0\n",
    "        logits_list = []\n",
    "        labels_list = []\n",
    "\n",
    "        # Evaluate data for one epoch\n",
    "        for batch in validation_dataloader:\n",
    "            # Add batch to GPU\n",
    "            batch = tuple(t.to(device) for t in batch)\n",
    "            # Unpack the inputs from our dataloader\n",
    "            b_input_ids, b_input_mask, b_labels = batch\n",
    "            # Telling the model not to compute or store gradients, saving memory and speeding up validation\n",
    "            with torch.no_grad():\n",
    "            # Forward pass, calculate logit predictions\n",
    "                logits = model(b_input_ids, token_type_ids=None, attention_mask=b_input_mask)[0] \n",
    "                logits_list.append(logits)\n",
    "                labels_list.append(b_labels)\n",
    "            # Move logits and labels to CPU\n",
    "            logits = logits.detach().cpu().numpy()\n",
    "            label_ids = b_labels.to('cpu').numpy()\n",
    "\n",
    "            tmp_eval_nb = accurate_nb(logits, label_ids)\n",
    "\n",
    "            eval_accurate_nb += tmp_eval_nb\n",
    "            nb_eval_examples += label_ids.shape[0]\n",
    "        eval_accuracy = eval_accurate_nb/nb_eval_examples\n",
    "        print(\"Validation Accuracy: {}\".format(eval_accuracy))\n",
    "        scheduler.step(eval_accuracy)\n",
    "\n",
    "\n",
    "        if eval_accuracy > best_val:\n",
    "            dirname = '{}/BERT-base-{}'.format(dataset, SEED)\n",
    "            # Directory names at longest can be 255\n",
    "            dirname = dirname[:255]\n",
    "            output_dir = './model_save/{}'.format(dirname)\n",
    "            os.makedirs(output_dir, exist_ok=True)\n",
    "            print(\"Saving model to %s\" % output_dir)\n",
    "            model_to_save = model.module if hasattr(model, 'module') else model \n",
    "            model_to_save.save_pretrained(output_dir)   \n",
    "            #tokenizer.save_pretrained(output_dir)\n",
    "\n",
    "            best_val = eval_accuracy\n",
    "\n",
    "    # ##### test model on test data\n",
    "        # Put model in evaluation mode\n",
    "        model.eval()\n",
    "        # Tracking variables \n",
    "        eval_accurate_nb = 0\n",
    "        nb_test_examples = 0\n",
    "        logits_list = []\n",
    "        labels_list = []\n",
    "        # Predict \n",
    "        for batch in prediction_dataloader:\n",
    "            # Add batch to GPU\n",
    "            batch = tuple(t.to(device) for t in batch)\n",
    "            # Unpack the inputs from our dataloader\n",
    "            b_input_ids, b_input_mask, b_labels = batch\n",
    "            # Telling the model not to compute or store gradients, saving memory and speeding up prediction\n",
    "            with torch.no_grad():\n",
    "                # Forward pass, calculate logit predictions \n",
    "                logits = model(b_input_ids, token_type_ids=None, attention_mask=b_input_mask)[0]\n",
    "                logits_list.append(logits)\n",
    "                labels_list.append(b_labels)\n",
    "            # Move logits and labels to CPU\n",
    "            logits = logits.detach().cpu().numpy()\n",
    "            label_ids = b_labels.to('cpu').numpy()\n",
    "\n",
    "            tmp_eval_nb = accurate_nb(logits, label_ids)\n",
    "            eval_accurate_nb += tmp_eval_nb\n",
    "            nb_test_examples += label_ids.shape[0]\n",
    "\n",
    "        print(\"Test Accuracy: {}\".format(eval_accurate_nb/nb_test_examples))\n",
    "main()"
   ]
  },
  {
   "cell_type": "code",
   "execution_count": null,
   "id": "palestinian-dealing",
   "metadata": {
    "scrolled": true
   },
   "outputs": [],
   "source": [
    "if __name__ == \"__main__\":\n",
    "    main()"
   ]
  }
 ],
 "metadata": {
  "kernelspec": {
   "display_name": "Python 3",
   "language": "python",
   "name": "python3"
  },
  "language_info": {
   "codemirror_mode": {
    "name": "ipython",
    "version": 3
   },
   "file_extension": ".py",
   "mimetype": "text/x-python",
   "name": "python",
   "nbconvert_exporter": "python",
   "pygments_lexer": "ipython3",
   "version": "3.9.2"
  }
 },
 "nbformat": 4,
 "nbformat_minor": 5
}
